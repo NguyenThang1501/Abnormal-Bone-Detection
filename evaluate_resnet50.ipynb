{
 "cells": [
  {
   "cell_type": "code",
   "execution_count": 3,
   "metadata": {
    "_cell_guid": "b1076dfc-b9ad-4769-8c92-a6c4dae69d19",
    "_uuid": "8f2839f25d086af736a60e9eeb907d3b93b6e0e5",
    "execution": {
     "iopub.execute_input": "2024-12-21T07:48:10.241473Z",
     "iopub.status.busy": "2024-12-21T07:48:10.241154Z",
     "iopub.status.idle": "2024-12-21T07:49:55.592354Z",
     "shell.execute_reply": "2024-12-21T07:49:55.591484Z",
     "shell.execute_reply.started": "2024-12-21T07:48:10.241445Z"
    },
    "trusted": true
   },
   "outputs": [
    {
     "name": "stdout",
     "output_type": "stream",
     "text": [
      "Found 28804 validated image filenames belonging to 2 classes.\n",
      "Found 7200 validated image filenames belonging to 2 classes.\n",
      "Found 4001 validated image filenames belonging to 2 classes.\n"
     ]
    },
    {
     "name": "stderr",
     "output_type": "stream",
     "text": [
      "/opt/conda/lib/python3.10/site-packages/keras/src/trainers/data_adapters/py_dataset_adapter.py:121: UserWarning: Your `PyDataset` class should call `super().__init__(**kwargs)` in its constructor. `**kwargs` can include `workers`, `use_multiprocessing`, `max_queue_size`. Do not pass these arguments to `fit()`, as they will be ignored.\n",
      "  self._warn_if_super_not_called()\n",
      "WARNING: All log messages before absl::InitializeLog() is called are written to STDERR\n",
      "I0000 00:00:1734767368.887554      92 service.cc:145] XLA service 0x7cf8d8001e50 initialized for platform CUDA (this does not guarantee that XLA will be used). Devices:\n",
      "I0000 00:00:1734767368.887598      92 service.cc:153]   StreamExecutor device (0): Tesla T4, Compute Capability 7.5\n",
      "I0000 00:00:1734767368.887601      92 service.cc:153]   StreamExecutor device (1): Tesla T4, Compute Capability 7.5\n"
     ]
    },
    {
     "name": "stdout",
     "output_type": "stream",
     "text": [
      "\u001b[1m  1/126\u001b[0m \u001b[37m━━━━━━━━━━━━━━━━━━━━\u001b[0m \u001b[1m13:07\u001b[0m 6s/step"
     ]
    },
    {
     "name": "stderr",
     "output_type": "stream",
     "text": [
      "I0000 00:00:1734767373.667609      92 device_compiler.h:188] Compiled cluster using XLA!  This line is logged at most once for the lifetime of the process.\n"
     ]
    },
    {
     "name": "stdout",
     "output_type": "stream",
     "text": [
      "\u001b[1m126/126\u001b[0m \u001b[32m━━━━━━━━━━━━━━━━━━━━\u001b[0m\u001b[37m\u001b[0m \u001b[1m28s\u001b[0m 174ms/step\n",
      "Test Precision: 78.07909604519774%\n",
      "Test Recall: 86.6638795986622%\n"
     ]
    }
   ],
   "source": [
    "import numpy as np\n",
    "import pandas as pd\n",
    "import os\n",
    "import matplotlib.pyplot as plt\n",
    "from sklearn.model_selection import train_test_split\n",
    "from sklearn.metrics import precision_score, recall_score\n",
    "from tensorflow.keras.metrics import Precision, Recall\n",
    "from tensorflow.keras.optimizers import Adam\n",
    "from tensorflow.keras.preprocessing.image import ImageDataGenerator\n",
    "from tensorflow.keras.models import load_model\n",
    "from tensorflow.keras.applications.resnet50 import preprocess_input\n",
    "from PIL import Image, UnidentifiedImageError\n",
    "\n",
    "# Hàm kiểm tra file ảnh hợp lệ\n",
    "def is_valid_image(filepath):\n",
    "    try:\n",
    "        with Image.open(filepath) as img:\n",
    "            img.verify()\n",
    "        return True\n",
    "    except (UnidentifiedImageError, IOError):\n",
    "        return False\n",
    "\n",
    "# Hàm load toàn bộ dataset\n",
    "def load_full_dataset(path):\n",
    "    \"\"\"\n",
    "    Load toàn bộ X-ray dataset\n",
    "    \"\"\"\n",
    "    dataset = []\n",
    "    for folder in os.listdir(path):  # train/test\n",
    "        folder_path = os.path.join(path, folder)\n",
    "        if os.path.isdir(folder_path):\n",
    "            for body_part in os.listdir(folder_path):  # Elbow, Hand, Shoulder\n",
    "                part_path = os.path.join(folder_path, body_part)\n",
    "                if os.path.isdir(part_path):\n",
    "                    for patient_id in os.listdir(part_path):  # patient folders\n",
    "                        patient_path = os.path.join(part_path, patient_id)\n",
    "                        for lab in os.listdir(patient_path):  # positive/negative\n",
    "                            if lab.split('_')[-1] == 'positive':\n",
    "                                label = 'fractured'\n",
    "                            elif lab.split('_')[-1] == 'negative':\n",
    "                                label = 'normal'\n",
    "                            lab_path = os.path.join(patient_path, lab)\n",
    "                            for img in os.listdir(lab_path):\n",
    "                                img_path = os.path.join(lab_path, img)\n",
    "                                # Chỉ thêm ảnh hợp lệ\n",
    "                                if is_valid_image(img_path):\n",
    "                                    dataset.append({\n",
    "                                        'body_part': body_part,\n",
    "                                        'patient_id': patient_id,\n",
    "                                        'label': label,\n",
    "                                        'image_path': img_path\n",
    "                                    })\n",
    "    return dataset\n",
    "\n",
    "# Hàm huấn luyện mô hình\n",
    "def train_model():\n",
    "    image_dir = '/kaggle/input/mura-dataset/MURA-v1.1'\n",
    "    data = load_full_dataset(image_dir)\n",
    "    labels = []\n",
    "    filepaths = []\n",
    "\n",
    "    # Chuẩn bị dữ liệu\n",
    "    for row in data:\n",
    "        labels.append(row['label'])\n",
    "        filepaths.append(row['image_path'])\n",
    "\n",
    "    filepaths = pd.Series(filepaths, name='Filepath').astype(str)\n",
    "    labels = pd.Series(labels, name='Label')\n",
    "\n",
    "    images = pd.concat([filepaths, labels], axis=1)\n",
    "    train_df, test_df = train_test_split(images, train_size=0.9, shuffle=True, random_state=1)\n",
    "\n",
    "    # Tạo DataGenerator\n",
    "    train_generator = ImageDataGenerator(\n",
    "        horizontal_flip=True,\n",
    "        preprocessing_function=preprocess_input,\n",
    "        validation_split=0.2\n",
    "    )\n",
    "\n",
    "    test_generator = ImageDataGenerator(\n",
    "        preprocessing_function=preprocess_input\n",
    "    )\n",
    "\n",
    "    train_images = train_generator.flow_from_dataframe(\n",
    "        dataframe=train_df,\n",
    "        x_col='Filepath',\n",
    "        y_col='Label',\n",
    "        target_size=(224, 224),\n",
    "        color_mode='rgb',\n",
    "        class_mode='categorical',\n",
    "        batch_size=64,\n",
    "        shuffle=True,\n",
    "        seed=42,\n",
    "        subset='training'\n",
    "    )\n",
    "\n",
    "    val_images = train_generator.flow_from_dataframe(\n",
    "        dataframe=train_df,\n",
    "        x_col='Filepath',\n",
    "        y_col='Label',\n",
    "        target_size=(224, 224),\n",
    "        color_mode='rgb',\n",
    "        class_mode='categorical',\n",
    "        batch_size=64,\n",
    "        shuffle=True,\n",
    "        seed=42,\n",
    "        subset='validation'\n",
    "    )\n",
    "\n",
    "    test_images = test_generator.flow_from_dataframe(\n",
    "        dataframe=test_df,\n",
    "        x_col='Filepath',\n",
    "        y_col='Label',\n",
    "        target_size=(224, 224),\n",
    "        color_mode='rgb',\n",
    "        class_mode='categorical',\n",
    "        batch_size=32,\n",
    "        shuffle=False\n",
    "    )\n",
    "\n",
    "    model = load_model(\"/kaggle/input/resnet_fulldata/tensorflow2/default/1/ResNet50_full_frac.h5\")\n",
    "    \n",
    "    # Biên dịch lại mô hình với các metrics cần thiết\n",
    "    model.compile(\n",
    "        optimizer=Adam(learning_rate=0.0001),\n",
    "        loss='binary_crossentropy',\n",
    "        metrics=['accuracy', Precision(name='precision'), Recall(name='recall')]\n",
    "    )\n",
    "\n",
    "    # Dự đoán trên tập test\n",
    "    y_pred_prob = model.predict(test_images)\n",
    "    y_pred = np.argmax(y_pred_prob, axis=1)\n",
    "\n",
    "    # Lấy y_true từ test_images\n",
    "    y_true = test_images.classes\n",
    "\n",
    "    # Tính toán Precision và Recall\n",
    "    precision = precision_score(y_true, y_pred, pos_label=1)\n",
    "    recall = recall_score(y_true, y_pred, pos_label=1)\n",
    "    print(f\"Test Precision: {precision * 100}%\")\n",
    "    print(f\"Test Recall: {recall * 100}%\")\n",
    "\n",
    "# Chạy mô hình\n",
    "if __name__ == \"__main__\":\n",
    "    train_model()\n"
   ]
  }
 ],
 "metadata": {
  "kaggle": {
   "accelerator": "nvidiaTeslaT4",
   "dataSources": [
    {
     "datasetId": 2634341,
     "sourceId": 4507366,
     "sourceType": "datasetVersion"
    },
    {
     "datasetId": 3883104,
     "sourceId": 6743106,
     "sourceType": "datasetVersion"
    },
    {
     "datasetId": 4854718,
     "sourceId": 8201044,
     "sourceType": "datasetVersion"
    },
    {
     "datasetId": 6245474,
     "sourceId": 10121495,
     "sourceType": "datasetVersion"
    },
    {
     "datasetId": 6290655,
     "sourceId": 10183212,
     "sourceType": "datasetVersion"
    },
    {
     "sourceId": 211572087,
     "sourceType": "kernelVersion"
    },
    {
     "isSourceIdPinned": true,
     "modelId": 194051,
     "modelInstanceId": 171731,
     "sourceId": 201282,
     "sourceType": "modelInstanceVersion"
    }
   ],
   "dockerImageVersionId": 30804,
   "isGpuEnabled": true,
   "isInternetEnabled": true,
   "language": "python",
   "sourceType": "notebook"
  },
  "kernelspec": {
   "display_name": "Python 3",
   "language": "python",
   "name": "python3"
  },
  "language_info": {
   "codemirror_mode": {
    "name": "ipython",
    "version": 3
   },
   "file_extension": ".py",
   "mimetype": "text/x-python",
   "name": "python",
   "nbconvert_exporter": "python",
   "pygments_lexer": "ipython3",
   "version": "3.10.14"
  }
 },
 "nbformat": 4,
 "nbformat_minor": 4
}
