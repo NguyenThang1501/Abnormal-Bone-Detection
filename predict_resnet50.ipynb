{
 "cells": [
  {
   "cell_type": "code",
   "execution_count": 11,
   "metadata": {
    "execution": {
     "iopub.execute_input": "2024-12-22T15:23:51.150801Z",
     "iopub.status.busy": "2024-12-22T15:23:51.150369Z",
     "iopub.status.idle": "2024-12-22T15:23:59.973939Z",
     "shell.execute_reply": "2024-12-22T15:23:59.973104Z",
     "shell.execute_reply.started": "2024-12-22T15:23:51.150752Z"
    },
    "trusted": true
   },
   "outputs": [
    {
     "name": "stdout",
     "output_type": "stream",
     "text": [
      "\u001b[1m1/1\u001b[0m \u001b[32m━━━━━━━━━━━━━━━━━━━━\u001b[0m\u001b[37m\u001b[0m \u001b[1m2s\u001b[0m 2s/step\n",
      "The predicted label is: normal\n",
      "The prediction probabilities are: [[0.79412633 0.20587367]]\n",
      "\u001b[1m1/1\u001b[0m \u001b[32m━━━━━━━━━━━━━━━━━━━━\u001b[0m\u001b[37m\u001b[0m \u001b[1m2s\u001b[0m 2s/step\n",
      "The predicted label is: fractured\n",
      "The prediction probabilities are: [[0.32567075 0.6743292 ]]\n"
     ]
    }
   ],
   "source": [
    "import numpy as np\n",
    "import tensorflow as tf\n",
    "from tensorflow.keras.models import load_model\n",
    "import cv2\n",
    "import os\n",
    "\n",
    "# Hàm tiền xử lý ảnh\n",
    "def preprocess_image(image_path, target_size=(224, 224)):\n",
    "\n",
    "    image = cv2.imread(image_path)\n",
    "    if image is None:\n",
    "        raise ValueError(f\"Cannot read image from path: {image_path}\")\n",
    "    image = cv2.resize(image, target_size)\n",
    "    image = tf.keras.applications.resnet50.preprocess_input(image)\n",
    "    \n",
    "    return image\n",
    "\n",
    "# Hàm dự đoán nhãn của một ảnh\n",
    "def predict_image_label(model_path, image_path):\n",
    "    model = load_model(model_path)\n",
    "\n",
    "    image = preprocess_image(image_path)\n",
    "    image = np.expand_dims(image, axis=0)\n",
    "    prediction = model.predict(image)\n",
    "    label = 'fractured' if np.argmax(prediction) == 1 else 'normal'\n",
    "    \n",
    "    return label, prediction\n",
    "\n",
    "model_path = '/kaggle/input/resnet_fulldata/tensorflow2/default/1/ResNet50_full_frac.h5'\n",
    "image_normal_path = '/kaggle/input/mura-dataset/MURA-v1.1/valid/XR_SHOULDER/patient11196/study1_negative/image1.png'\n",
    "image_fractured_path = \"/kaggle/input/mura-dataset/MURA-v1.1/valid/XR_HAND/patient11190/study1_negative/image1.png\"\n",
    "\n",
    "label, prediction = predict_image_label(model_path, image_normal_path)\n",
    "print(f\"The predicted label is: {label}\")\n",
    "print(f\"The prediction probabilities are: {prediction}\")\n",
    "\n",
    "label, prediction = predict_image_label(model_path, image_fractured_path)\n",
    "print(f\"The predicted label is: {label}\")\n",
    "print(f\"The prediction probabilities are: {prediction}\")\n"
   ]
  }
 ],
 "metadata": {
  "kaggle": {
   "accelerator": "nvidiaTeslaT4",
   "dataSources": [
    {
     "datasetId": 2634341,
     "sourceId": 4507366,
     "sourceType": "datasetVersion"
    },
    {
     "datasetId": 3883104,
     "sourceId": 6743106,
     "sourceType": "datasetVersion"
    },
    {
     "datasetId": 4854718,
     "sourceId": 8201044,
     "sourceType": "datasetVersion"
    },
    {
     "datasetId": 6245474,
     "sourceId": 10121495,
     "sourceType": "datasetVersion"
    },
    {
     "datasetId": 6290655,
     "sourceId": 10183212,
     "sourceType": "datasetVersion"
    },
    {
     "sourceId": 211572087,
     "sourceType": "kernelVersion"
    },
    {
     "isSourceIdPinned": true,
     "modelId": 194051,
     "modelInstanceId": 171731,
     "sourceId": 201282,
     "sourceType": "modelInstanceVersion"
    }
   ],
   "dockerImageVersionId": 30804,
   "isGpuEnabled": true,
   "isInternetEnabled": true,
   "language": "python",
   "sourceType": "notebook"
  },
  "kernelspec": {
   "display_name": "Python 3",
   "language": "python",
   "name": "python3"
  },
  "language_info": {
   "codemirror_mode": {
    "name": "ipython",
    "version": 3
   },
   "file_extension": ".py",
   "mimetype": "text/x-python",
   "name": "python",
   "nbconvert_exporter": "python",
   "pygments_lexer": "ipython3",
   "version": "3.10.14"
  }
 },
 "nbformat": 4,
 "nbformat_minor": 4
}
